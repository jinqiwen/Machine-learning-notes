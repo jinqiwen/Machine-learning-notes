{
 "cells": [
  {
   "cell_type": "code",
   "execution_count": 1,
   "id": "bc3bd689-269d-41e9-8f61-13b303c88062",
   "metadata": {},
   "outputs": [],
   "source": [
    "#-*- coding: utf-8 -*-\n",
    "from __future__ import print_function\n",
    "import numpy as np\n",
    "from matplotlib import pyplot as plt\n",
    "from matplotlib.font_manager import FontProperties"
   ]
  },
  {
   "cell_type": "code",
   "execution_count": 6,
   "id": "e839e347-5dfd-4f6f-a62a-b642be154546",
   "metadata": {},
   "outputs": [],
   "source": [
    "# 加载txt和csv文件\n",
    "def loadtxtAndcsv_data(fileName,split,dataType):\n",
    "    return np.loadtxt(fileName,delimiter=split,dtype=dataType)"
   ]
  },
  {
   "cell_type": "code",
   "execution_count": 11,
   "id": "e1505b93-b21d-4a94-a03c-9826f4e77629",
   "metadata": {},
   "outputs": [],
   "source": [
    "data = loadtxtAndcsv_data(\"data.txt\",\",\",np.float64)  #读取数据"
   ]
  },
  {
   "cell_type": "code",
   "execution_count": 13,
   "id": "03f3feb9-fdac-4bfe-892f-4b9141c2c493",
   "metadata": {},
   "outputs": [
    {
     "data": {
      "text/plain": [
       "array([2.104e+03, 3.000e+00, 3.999e+05])"
      ]
     },
     "execution_count": 13,
     "metadata": {},
     "output_type": "execute_result"
    }
   ],
   "source": [
    "data[0]"
   ]
  },
  {
   "cell_type": "code",
   "execution_count": 14,
   "id": "2b69a8c4-0583-4f83-a4d5-764cd4a85153",
   "metadata": {},
   "outputs": [],
   "source": [
    "X = data[:,0:-1] "
   ]
  },
  {
   "cell_type": "code",
   "execution_count": 15,
   "id": "822e456b-a4a6-409b-b653-e6688ccad02f",
   "metadata": {},
   "outputs": [
    {
     "data": {
      "text/plain": [
       "array([2104.,    3.])"
      ]
     },
     "execution_count": 15,
     "metadata": {},
     "output_type": "execute_result"
    }
   ],
   "source": [
    "X[0]"
   ]
  },
  {
   "cell_type": "code",
   "execution_count": 16,
   "id": "45cc84be-e849-45f2-89af-687e8cea5dac",
   "metadata": {},
   "outputs": [],
   "source": [
    "y = data[:,-1] "
   ]
  },
  {
   "cell_type": "code",
   "execution_count": 17,
   "id": "04840ac0-c37e-4f0c-97f1-e8ae8f303e49",
   "metadata": {},
   "outputs": [
    {
     "data": {
      "text/plain": [
       "399900.0"
      ]
     },
     "execution_count": 17,
     "metadata": {},
     "output_type": "execute_result"
    }
   ],
   "source": [
    "y[0]"
   ]
  },
  {
   "cell_type": "code",
   "execution_count": 18,
   "id": "38de6eca-20f5-4018-b057-23638b009309",
   "metadata": {},
   "outputs": [],
   "source": [
    "m = len(y)            # 总的数据条数"
   ]
  },
  {
   "cell_type": "code",
   "execution_count": 19,
   "id": "1c3eaf78-9f9c-4333-b808-57ea390a3526",
   "metadata": {},
   "outputs": [],
   "source": [
    "col = data.shape[1]   # data的列数"
   ]
  },
  {
   "cell_type": "code",
   "execution_count": 21,
   "id": "4851a3ec-15c8-4a0d-9c6b-54ef5aba73d3",
   "metadata": {},
   "outputs": [
    {
     "ename": "NameError",
     "evalue": "name 'featureNormaliza' is not defined",
     "output_type": "error",
     "traceback": [
      "\u001b[0;31m---------------------------------------------------------------------------\u001b[0m",
      "\u001b[0;31mNameError\u001b[0m                                 Traceback (most recent call last)",
      "\u001b[0;32m/var/folders/74/wkzk3_6n0pj53k72wy6hl4_80000gn/T/ipykernel_32736/3849488581.py\u001b[0m in \u001b[0;36m<module>\u001b[0;34m\u001b[0m\n\u001b[0;32m----> 1\u001b[0;31m \u001b[0mX\u001b[0m\u001b[0;34m,\u001b[0m\u001b[0mmu\u001b[0m\u001b[0;34m,\u001b[0m\u001b[0msigma\u001b[0m \u001b[0;34m=\u001b[0m \u001b[0mfeatureNormaliza\u001b[0m\u001b[0;34m(\u001b[0m\u001b[0mX\u001b[0m\u001b[0;34m)\u001b[0m\u001b[0;34m\u001b[0m\u001b[0;34m\u001b[0m\u001b[0m\n\u001b[0m",
      "\u001b[0;31mNameError\u001b[0m: name 'featureNormaliza' is not defined"
     ]
    }
   ],
   "source": [
    "X,mu,sigma = featureNormaliza(X)"
   ]
  },
  {
   "cell_type": "code",
   "execution_count": null,
   "id": "b6d78370-e5c1-4338-b334-3f01ff1b1eec",
   "metadata": {},
   "outputs": [],
   "source": []
  }
 ],
 "metadata": {
  "kernelspec": {
   "display_name": "Python 3 (ipykernel)",
   "language": "python",
   "name": "python3"
  },
  "language_info": {
   "codemirror_mode": {
    "name": "ipython",
    "version": 3
   },
   "file_extension": ".py",
   "mimetype": "text/x-python",
   "name": "python",
   "nbconvert_exporter": "python",
   "pygments_lexer": "ipython3",
   "version": "3.9.12"
  },
  "toc-autonumbering": false
 },
 "nbformat": 4,
 "nbformat_minor": 5
}
